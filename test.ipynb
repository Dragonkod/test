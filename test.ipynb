{
 "cells": [
  {
   "cell_type": "markdown",
   "id": "bf936a0f-a914-4592-aa40-50dd0e0be665",
   "metadata": {},
   "source": [
    "hejhej"
   ]
  },
  {
   "cell_type": "code",
   "execution_count": null,
   "id": "876a3ad3-77ed-4119-8a6e-480403a1c7f1",
   "metadata": {},
   "outputs": [],
   "source": [
    "x = 4\n",
    "y = 3\n",
    "\n",
    "print(x*y)"
   ]
  }
 ],
 "metadata": {
  "kernelspec": {
   "display_name": "Python 3 (ipykernel)",
   "language": "python",
   "name": "python3"
  },
  "language_info": {
   "codemirror_mode": {
    "name": "ipython",
    "version": 3
   },
   "file_extension": ".py",
   "mimetype": "text/x-python",
   "name": "python",
   "nbconvert_exporter": "python",
   "pygments_lexer": "ipython3",
   "version": "3.10.12"
  }
 },
 "nbformat": 4,
 "nbformat_minor": 5
}
